{
 "cells": [
  {
   "cell_type": "markdown",
   "metadata": {},
   "source": [
    "# Hodgkin-Huxley Model: Steady State Analysis\n",
    "\n",
    "This notebook analyzes the steady-state behavior of the Hodgkin-Huxley model's gate variables and membrane potential."
   ]
  },
  {
   "cell_type": "code",
   "execution_count": null,
   "metadata": {},
   "outputs": [],
   "source": [
    "import sys\n",
    "import os\n",
    "sys.path.insert(0, os.path.abspath(os.path.join(os.getcwd(), '..')))\n",
    "\n",
    "import numpy as np\n",
    "import matplotlib.pyplot as plt\n",
    "from src.model import HodgkinHuxleyModel\n",
    "from src.gates import n_infinity, m_infinity, h_infinity\n",
    "from src.visualization import plot_steady_states\n",
    "\n",
    "%matplotlib inline\n",
    "plt.style.use('seaborn-darkgrid')"
   ]
  },
  {
   "cell_type": "markdown",
   "metadata": {},
   "source": [
    "## 1. Gate Variables Steady States\n",
    "\n",
    "First, we'll examine how the steady-state values of n, m, and h vary with membrane potential."
   ]
  },
  {
   "cell_type": "code",
   "execution_count": null,
   "metadata": {},
   "outputs": [],
   "source": [
    "V_range = np.linspace(-100, 50, 1000)\n",
    "\n",
    "fig = plot_steady_states(V_range)\n",
    "plt.savefig('../data/results/steady_state_gates.png')\n",
    "plt.show()\n"
   ]
  },
  {
   "cell_type": "markdown",
   "metadata": {},
   "source": [
    "## 2. Resting State Analysis\n",
    "\n",
    "Now let's examine the model's behavior at rest."
   ]
  },
  {
   "cell_type": "code",
   "execution_count": null,
   "metadata": {},
   "outputs": [],
   "source": [
    "model = HodgkinHuxleyModel()\n",
    "t_span = [0, 50]\n",
    "t, V, n, m, h = model.simulate(t_span)\n",
    "\n",
    "fig = plt.figure(figsize=(12, 10))\n",
    "gs = plt.GridSpec(4, 1, height_ratios=[2, 1, 1, 1])\n",
    "\n",
    "ax1 = fig.add_subplot(gs[0])\n",
    "ax1.plot(t, V, 'b')\n",
    "ax1.set_title('Membrane Potential at Rest')\n",
    "ax1.set_xlabel('Time (ms)')\n",
    "ax1.set_ylabel('Voltage (mV)')\n",
    "ax1.grid(True)\n",
    "\n",
    "ax2 = fig.add_subplot(gs[1])\n",
    "ax2.plot(t, n, 'g')\n",
    "ax2.set_title('Potassium Activation Gate (n)')\n",
    "ax2.set_xlabel('Time (ms)')\n",
    "ax2.set_ylabel('Probability')\n",
    "ax2.grid(True)\n",
    "\n",
    "ax3 = fig.add_subplot(gs[2])\n",
    "ax3.plot(t, m, 'r')\n",
    "ax3.set_title('Sodium Activation Gate (m)')\n",
    "ax3.set_xlabel('Time (ms)')\n",
    "ax3.set_ylabel('Probability')\n",
    "ax3.grid(True)\n",
    "\n",
    "ax4 = fig.add_subplot(gs[3])\n",
    "ax4.plot(t, h, 'purple')\n",
    "ax4.set_title('Sodium Inactivation Gate (h)')\n",
    "ax4.set_xlabel('Time (ms)')\n",
    "ax4.set_ylabel('Probability')\n",
    "ax4.grid(True)\n",
    "\n",
    "plt.tight_layout()\n",
    "plt.savefig('../data/results/steady_state_model.png')\n",
    "plt.show()\n"
   ]
  }
 ],
 "metadata": {
  "kernelspec": {
   "display_name": "base",
   "language": "python",
   "name": "python3"
  },
  "language_info": {
   "codemirror_mode": {
    "name": "ipython",
    "version": 3
   },
   "file_extension": ".py",
   "mimetype": "text/x-python",
   "name": "python",
   "nbconvert_exporter": "python",
   "pygments_lexer": "ipython3",
   "version": "3.11.5"
  }
 },
 "nbformat": 4,
 "nbformat_minor": 2
}
