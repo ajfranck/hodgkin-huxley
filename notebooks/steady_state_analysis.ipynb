

{
 "cells": [
  {
   "cell_type": "markdown",
   "metadata": {},
   "source": [
    "# Hodgkin-Huxley Model: Steady State Analysis\n",
    "\n",
    "This notebook analyzes the steady-state behavior of the Hodgkin-Huxley model's gate variables and membrane potential."
   ]
  },
  {
   "cell_type": "code",
   "execution_count": null,
   "metadata": {},
   "source": [
    "import numpy as np\n",
    "import matplotlib.pyplot as plt\n",
    "from src.model import HodgkinHuxleyModel\n",
    "from src.gates import n_infinity, m_infinity, h_infinity\n",
    "from src.visualization import plot_steady_states\n",
    "\n",
    "%matplotlib inline\n",
    "plt.style.use('seaborn-darkgrid')"
   ]
  },
  {
   "cell_type": "markdown",
   "metadata": {},
   "source": [
    "## 1. Gate Variables Steady States\n",
    "\n",
    "First, we'll examine how the steady-state values of n, m, and h vary with membrane potential."
   ]
  },
  {
   "cell_type": "code",
   "execution_count": null,
   "metadata": {},
   "source": [
    "# Generate voltage range\n",
    "V_range = np.linspace(-100, 50, 1000)\n",
    "\n",
    "# Plot steady states\n",
    "fig = plot_steady_states(V_range)\n",
    "plt.show()"
   ]
  },
  {
   "cell_type": "markdown",
   "metadata": {},
   "source": [
    "## 2. Resting State Analysis\n",
    "\n",
    "Now let's examine the model's behavior at rest."
   ]
  },
  {
   "cell_type": "code",
   "execution_count": null,
   "metadata": {},
   "source": [
    "# Create model instance\n",
    "model = HodgkinHuxleyModel()\n",
    "\n",
    "# Simulate with no external current\n",
    "t_span = [0, 50]  # 50ms simulation\n",
    "t, V, n, m, h = model.simulate(t_span)\n",
    "\n",
    "# Plot results\n",
    "fig, (ax1, ax2) = plt.subplots(2, 1, figsize=(10, 10))\n",
    "\n",
    "# Membrane potential\n",
    "ax1.plot(t, V)\n",
    "ax1.set_title('Membrane Potential at Rest')\n",
    "ax1.set_xlabel('Time (ms)')\n",
    "ax1.set_ylabel('Voltage (mV)')\n",
    "ax1.grid(True)\n",
    "\n",
    "# Gate variables\n",
    "ax2.plot(t, n, label='n')\n",
    "ax2.plot(t, m, label='m')\n",
    "ax2.plot(t, h, label='h')\n",
    "ax2.set_title('Gate Variables at Rest')\n",
    "ax2.set_xlabel('Time (ms)')\n",
    "ax2.set_ylabel('Probability')\n",
    "ax2.legend()\n",
    "ax2.grid(True)\n",
    "\n",
    "plt.tight_layout()\n",
    "plt.show()"
   ]
  }
 ]
}
