{
 "cells": [
  {
   "cell_type": "markdown",
   "metadata": {},
   "source": [
    "# Hodgkin-Huxley Model: Sinusoidal Current Stimulation\n",
    "\n",
    "This notebook explores the membrane potential dynamics under sinusoidal current injection.\n",
    "\n",
    "We'll investigate how different parameters of a sine wave current affect the neuronal response."
   ]
  },
  {
   "cell_type": "code",
   "execution_count": null,
   "metadata": {},
   "outputs": [],
   "source": [
    "import sys\n",
    "import os\n",
    "sys.path.insert(0, os.path.abspath(os.path.join(os.getcwd(), '..')))\n",
    "\n",
    "import numpy as np\n",
    "import matplotlib.pyplot as plt\n",
    "from src.model import HodgkinHuxleyModel\n",
    "from src.visualization import plot_membrane_potential, plot_gate_variables\n",
    "\n",
    "plt.style.use('seaborn-darkgrid')"
   ]
  },
  {
   "cell_type": "markdown",
   "metadata": {},
   "source": [
    "## Sinusoidal Current Generator\n",
    "\n",
    "We'll create a function to generate a sine wave current with configurable parameters:\n",
    "- Amplitude: Peak current intensity\n",
    "- Frequency: Oscillations per time unit\n",
    "- Duration: Total stimulation time\n",
    "- Phase: Optional phase shift"
   ]
  },
  {
   "cell_type": "code",
   "execution_count": null,
   "metadata": {},
   "outputs": [],
   "source": [
    "def sine_current(t, amplitude=5, frequency=1, duration=20, phase=0):\n",
    "    \"\"\"Generate a sinusoidal current stimulus.\n",
    "    \n",
    "    Args:\n",
    "        t (float): Current time point\n",
    "        amplitude (float): Peak current amplitude (μA/cm²)\n",
    "        frequency (float): Frequency of oscillation (Hz)\n",
    "        duration (float): Total stimulation duration (ms)\n",
    "        phase (float): Phase shift (radians)\n",
    "    \n",
    "    Returns:\n",
    "        float: Current intensity at time t\n",
    "    \"\"\"\n",
    "    return amplitude * np.sin(2 * np.pi * frequency * t / 1000 + phase) if t <= duration else 0"
   ]
  },
  {
   "cell_type": "markdown",
   "metadata": {},
   "source": [
    "## Experiment 1: Low-Frequency Sinusoidal Stimulation\n",
    "\n",
    "First, we'll simulate a low-frequency sine wave current with moderate amplitude."
   ]
  },
  {
   "cell_type": "code",
   "execution_count": null,
   "metadata": {},
   "outputs": [],
   "source": [
    "# Low-frequency simulation\n",
    "model = HodgkinHuxleyModel()\n",
    "\n",
    "# Parameters\n",
    "amplitude_low = 5    # μA/cm²\n",
    "frequency_low = 0.5  # 0.5 Hz\n",
    "duration_low = 30    # 30 ms\n",
    "\n",
    "# Simulate\n",
    "t_span_low = [0, duration_low]\n",
    "t_low, V_low, n_low, m_low, h_low = model.simulate(\n",
    "    t_span_low, \n",
    "    I_ext_func=lambda t: sine_current(t, amplitude=amplitude_low, frequency=frequency_low)\n",
    ")\n",
    "\n",
    "# Generate current array for plotting\n",
    "I_ext_low = np.array([sine_current(t_i, amplitude=amplitude_low, frequency=frequency_low) for t_i in t_low])\n",
    "\n",
    "# Plot membrane potential and gate variables\n",
    "fig1 = plot_membrane_potential(t_low, V_low, f\"Low Frequency (0.5 Hz) Sinusoidal Current\", I_ext_low)\n",
    "plt.show()\n",
    "\n",
    "fig2 = plot_gate_variables(t_low, n_low, m_low, h_low)\n",
    "plt.show()"
   ]
  },
  {
   "cell_type": "markdown",
   "metadata": {},
   "source": [
    "## Experiment 2: High-Frequency Sinusoidal Stimulation\n",
    "\n",
    "Now we'll compare with a higher frequency sine wave current."
   ]
  },
  {
   "cell_type": "code",
   "execution_count": null,
   "metadata": {},
   "outputs": [],
   "source": [
    "# Reset model to initial conditions\n",
    "model.reset_state()\n",
    "\n",
    "# High-frequency parameters\n",
    "amplitude_high = 5    # μA/cm²\n",
    "frequency_high = 5    # 5 Hz\n",
    "duration_high = 30    # 30 ms\n",
    "\n",
    "# Simulate\n",
    "t_span_high = [0, duration_high]\n",
    "t_high, V_high, n_high, m_high, h_high = model.simulate(\n",
    "    t_span_high, \n",
    "    I_ext_func=lambda t: sine_current(t, amplitude=amplitude_high, frequency=frequency_high)\n",
    ")\n",
    "\n",
    "# Generate current array for plotting\n",
    "I_ext_high = np.array([sine_current(t_i, amplitude=amplitude_high, frequency=frequency_high) for t_i in t_high])\n",
    "\n",
    "# Plot membrane potential and gate variables\n",
    "fig3 = plot_membrane_potential(t_high, V_high, f\"High Frequency (5 Hz) Sinusoidal Current\", I_ext_high)\n",
    "plt.show()\n",
    "\n",
    "fig4 = plot_gate_variables(t_high, n_high, m_high, h_high)\n",
    "plt.show()"
   ]
  },
  {
   "cell_type": "markdown",
   "metadata": {},
   "source": [
    "## Experiment 3: Comparing Multiple Sinusoidal Stimuli\n",
    "\n",
    "We'll create a subplot to visualize different sinusoidal current characteristics side by side."
   ]
  },
  {
   "cell_type": "code",
   "execution_count": null,
   "metadata": {},
   "outputs": [],
   "source": [
    "# Define parameter combinations\n",
    "stimuli_params = [\n",
    "    {\"amplitude\": 3, \"frequency\": 0.5, \"label\": \"Low Amp, Low Freq\"},\n",
    "    {\"amplitude\": 5, \"frequency\": 1, \"label\": \"Mod Amp, Mod Freq\"},\n",
    "    {\"amplitude\": 7, \"frequency\": 2, \"label\": \"High Amp, High Freq\"}\n",
    "]\n",
    "\n",
    "duration = 30  # ms\n",
    "t_span = [0, duration]\n",
    "\n",
    "fig, axes = plt.subplots(len(stimuli_params), 1, figsize=(10, 4*len(stimuli_params)))\n",
    "\n",
    "for i, params in enumerate(stimuli_params):\n",
    "    model.reset_state()\n",
    "    t, V, n, m, h = model.simulate(\n",
    "        t_span, \n",
    "        I_ext_func=lambda t: sine_current(t, **{k: params[k] for k in ['amplitude', 'frequency']})\n",
    "    )\n",
    "    \n",
    "    # Plot membrane potential\n",
    "    axes[i].plot(t, V, label='Membrane Potential')\n",
    "    axes[i].set_title(params[\"label\"])\n",
    "    axes[i].set_ylabel('Voltage (mV)')\n",
    "    axes[i].grid(True)\n",
    "    \n",
    "    # Overlay current\n",
    "    ax2 = axes[i].twinx()\n",
    "    current = [sine_current(t_i, **{k: params[k] for k in ['amplitude', 'frequency']}) for t_i in t]\n",
    "    ax2.plot(t, current, color='red', linestyle='--', label='Current')\n",
    "    ax2.set_ylabel('Current (μA/cm²)')\n",
    "\n",
    "axes[-1].set_xlabel('Time (ms)')\n",
    "plt.tight_layout()\n",
    "plt.savefig('../data/results/sine_current_membrane_response.png')\n",
    "plt.show()"
   ]
  }
 ],
 "metadata": {
  "kernelspec": {
   "display_name": "base",
   "language": "python",
   "name": "python3"
  },
  "language_info": {
   "codemirror_mode": {
    "name": "ipython",
    "version": 3
   },
   "file_extension": ".py",
   "mimetype": "text/x-python",
   "name": "python",
   "nbconvert_exporter": "python",
   "pygments_lexer": "ipython3",
   "version": "3.11.5"
  }
 },
 "nbformat": 4,
 "nbformat_minor": 2
}
