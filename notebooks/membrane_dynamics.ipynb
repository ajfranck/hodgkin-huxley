{
 "cells": [
  {
   "cell_type": "markdown",
   "metadata": {},
   "source": [
    "# Hodgkin-Huxley Model: Membrane Dynamics\n",
    "\n",
    "This notebook explores the dynamic behavior of the membrane potential in response to various stimuli."
   ]
  },
  {
   "cell_type": "code",
   "execution_count": null,
   "metadata": {},
   "outputs": [],
   "source": [
    "import sys\n",
    "import os\n",
    "sys.path.insert(0, os.path.abspath(os.path.join(os.getcwd(), '..')))\n",
    "\n",
    "import numpy as np\n",
    "import matplotlib.pyplot as plt\n",
    "from src.model import HodgkinHuxleyModel\n",
    "from src.visualization import plot_membrane_potential, plot_gate_variables\n",
    "\n",
    "plt.style.use('seaborn-darkgrid')"
   ]
  },
  {
   "cell_type": "markdown",
   "metadata": {},
   "source": [
    "## 1. Single Action Potential\n",
    "\n",
    "Let's examine the response to a brief current pulse."
   ]
  },
  {
   "cell_type": "code",
   "execution_count": null,
   "metadata": {},
   "outputs": [],
   "source": [
    "def pulse_current(t, amplitude=10, start=5, duration=1):\n",
    "    \"\"\"Generate a current pulse.\"\"\"\n",
    "    return amplitude if start <= t < (start + duration) else 0\n",
    "\n",
    "model = HodgkinHuxleyModel()\n",
    "\n",
    "t_span = [0, 25]  # 25ms simulation\n",
    "t, V, n, m, h = model.simulate(t_span, I_ext_func=lambda t: pulse_current(t))\n",
    "\n",
    "I_ext = np.array([pulse_current(t_i) for t_i in t])\n",
    "\n",
    "fig1 = plot_membrane_potential(t, V, \"Action Potential\", I_ext)\n",
    "plt.show()\n",
    "\n",
    "fig2 = plot_gate_variables(t, n, m, h)\n",
    "plt.show()"
   ]
  },
  {
   "cell_type": "markdown",
   "metadata": {},
   "source": [
    "## 2. Threshold Behavior\n",
    "\n",
    "Now let's explore how the membrane responds to different stimulus intensities."
   ]
  },
  {
   "cell_type": "code",
   "execution_count": null,
   "metadata": {},
   "outputs": [],
   "source": [
    "amplitudes = [0.01, 1, 2, 5]\n",
    "t_span = [0, 25]\n",
    "\n",
    "fig, axes = plt.subplots(len(amplitudes), 1, figsize=(10, 3*len(amplitudes)))\n",
    "\n",
    "for i, amp in enumerate(amplitudes):\n",
    "    model.reset_state()\n",
    "    t, V, n, m, h = model.simulate(t_span, I_ext_func=lambda t: pulse_current(t, amplitude=amp))\n",
    "    \n",
    "    axes[i].plot(t, V)\n",
    "    axes[i].set_title(f'Stimulus: {amp} μA/cm²')\n",
    "    axes[i].set_ylabel('Voltage (mV)')\n",
    "    axes[i].grid(True)\n",
    "\n",
    "axes[-1].set_xlabel('Time (ms)')\n",
    "plt.tight_layout()\n",
    "plt.savefig('../data/results/action_potential_threshold.png')\n",
    "plt.show()"
   ]
  }
 ],
 "metadata": {
  "kernelspec": {
   "display_name": "base",
   "language": "python",
   "name": "python3"
  },
  "language_info": {
   "codemirror_mode": {
    "name": "ipython",
    "version": 3
   },
   "file_extension": ".py",
   "mimetype": "text/x-python",
   "name": "python",
   "nbconvert_exporter": "python",
   "pygments_lexer": "ipython3",
   "version": "3.11.5"
  }
 },
 "nbformat": 4,
 "nbformat_minor": 2
}
