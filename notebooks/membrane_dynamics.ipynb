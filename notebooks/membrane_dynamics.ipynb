{
 "cells": [
  {
   "cell_type": "markdown",
   "metadata": {},
   "source": [
    "# Hodgkin-Huxley Model: Membrane Dynamics\n",
    "\n",
    "This notebook explores the dynamic behavior of the membrane potential in response to various stimuli."
   ]
  },
  {
   "cell_type": "code",
   "execution_count": null,
   "metadata": {},
   "outputs": [
    {
     "data": {
      "text/plain": [
       "Traceback (most recent call last):\n",
       "  File \"/Users/1amaj/.vscode-insiders/extensions/ms-python.python-2024.18.0-darwin-arm64/python_files/python_server.py\", line 130, in exec_user_input\n",
       "    retval = callable_(user_input, user_globals)\n",
       "  File \"<string>\", line 6\n",
       "    %matplotlib inline\n",
       "    ^\n",
       "SyntaxError: invalid syntax\n",
       "\n"
      ]
     },
     "metadata": {},
     "output_type": "display_data"
    }
   ],
   "source": [
    "import sys\n",
    "import os\n",
    "sys.path.insert(0, os.path.abspath(os.path.join(os.getcwd(), '..')))\n",
    "\n",
    "import numpy as np\n",
    "import matplotlib.pyplot as plt\n",
    "from src.model import HodgkinHuxleyModel\n",
    "from src.visualization import plot_membrane_potential, plot_gate_variables\n",
    "\n",
    "# %matplotlib inline\n",
    "plt.style.use('seaborn-darkgrid')"
   ]
  },
  {
   "cell_type": "markdown",
   "metadata": {},
   "source": [
    "## 1. Single Action Potential\n",
    "\n",
    "Let's examine the response to a brief current pulse."
   ]
  },
  {
   "cell_type": "code",
   "execution_count": null,
   "metadata": {},
   "outputs": [
    {
     "data": {
      "text/plain": [
       "Traceback (most recent call last):\n",
       "  File \"/Users/1amaj/.vscode-insiders/extensions/ms-python.python-2024.18.0-darwin-arm64/python_files/python_server.py\", line 130, in exec_user_input\n",
       "    retval = callable_(user_input, user_globals)\n",
       "  File \"<string>\", line 6, in <module>\n",
       "NameError: name 'HodgkinHuxleyModel' is not defined\n",
       "\n"
      ]
     },
     "metadata": {},
     "output_type": "display_data"
    }
   ],
   "source": [
    "def pulse_current(t, amplitude=10, start=5, duration=1):\n",
    "    \"\"\"Generate a current pulse.\"\"\"\n",
    "    return amplitude if start <= t < (start + duration) else 0\n",
    "\n",
    "# Create model instance\n",
    "model = HodgkinHuxleyModel()\n",
    "\n",
    "# Simulate with pulse current\n",
    "t_span = [0, 25]  # 25ms simulation\n",
    "t, V, n, m, h = model.simulate(t_span, lambda t: pulse_current(t))\n",
    "\n",
    "# Create current array for plotting\n",
    "I_ext = np.array([pulse_current(t_i) for t_i in t])\n",
    "\n",
    "# Plot results\n",
    "fig1 = plot_membrane_potential(t, V, \"Action Potential\", I_ext)\n",
    "plt.show()\n",
    "\n",
    "fig2 = plot_gate_variables(t, n, m, h)\n",
    "plt.show()"
   ]
  },
  {
   "cell_type": "markdown",
   "metadata": {},
   "source": [
    "## 2. Threshold Behavior\n",
    "\n",
    "Now let's explore how the membrane responds to different stimulus intensities."
   ]
  },
  {
   "cell_type": "code",
   "execution_count": null,
   "metadata": {},
   "outputs": [],
   "source": [
    "# Test different stimulus amplitudes\n",
    "amplitudes = [4, 6, 8, 10]\n",
    "t_span = [0, 25]\n",
    "\n",
    "fig, axes = plt.subplots(len(amplitudes), 1, figsize=(10, 3*len(amplitudes)))\n",
    "\n",
    "for i, amp in enumerate(amplitudes):\n",
    "    model.reset_state()\n",
    "    t, V, n, m, h = model.simulate(t_span, lambda t: pulse_current(t, amplitude=amp))\n",
    "    \n",
    "    axes[i].plot(t, V)\n",
    "    axes[i].set_title(f'Stimulus: {amp} μA/cm²')\n",
    "    axes[i].set_ylabel('Voltage (mV)')\n",
    "    axes[i].grid(True)\n",
    "\n",
    "axes[-1].set_xlabel('Time (ms)')\n",
    "plt.tight_layout()\n",
    "plt.show()"
   ]
  }
 ],
 "metadata": {
  "language_info": {
   "name": "python"
  }
 },
 "nbformat": 4,
 "nbformat_minor": 2
}
