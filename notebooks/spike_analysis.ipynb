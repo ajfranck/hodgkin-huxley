
{
 "cells": [
  {
   "cell_type": "markdown",
   "metadata": {},
   "source": [
    "# Hodgkin-Huxley Model: Spike Train Analysis\n",
    "\n",
    "This notebook analyzes the generation and characteristics of spike trains in response to sustained stimuli."
   ]
  },
  {
   "cell_type": "code",
   "execution_count": null,
   "metadata": {},
   "source": [
    "import numpy as np\n",
    "import matplotlib.pyplot as plt\n",
    "from src.model import HodgkinHuxleyModel\n",
    "from src.visualization import plot_membrane_potential, plot_phase_plane\n",
    "\n",
    "%matplotlib inline\n",
    "plt.style.use('seaborn-darkgrid')"
   ]
  },
  {
   "cell_type": "markdown",
   "metadata": {},
   "source": [
    "## 1. Sustained Current Response\n",
    "\n",
    "Let's examine how the neuron responds to sustained current input."
   ]
  },
  {
   "cell_type": "code",
   "execution_count": null,
   "metadata": {},
   "source": [
    "def sustained_current(t, amplitude=10, start=5):\n",
    "    \"\"\"Generate a sustained current step.\"\"\"\n",
    "    return amplitude if t >= start else 0\n",
    "\n",
    "# Create model instance\n",
    "model = HodgkinHuxleyModel()\n",
    "\n",
    "# Simulate with sustained current\n",
    "t_span = [0, 100]  # 100ms simulation\n",
    "t, V, n, m, h = model.simulate(t_span, lambda t: sustained_current(t))\n",
    "\n",
    "# Create current array for plotting\n",
    "I_ext = np.array([sustained_current(t_i) for t_i in t])\n",
    "\n",
    "# Plot results\n",
    "fig1 = plot_membrane_potential(t, V, \"Spike Train\", I_ext)\n",
    "plt.show()\n",
    "\n",
    "# Plot phase plane trajectory\n",
    "fig2 = plot_phase_plane(V, n, m, h)\n",
    "plt.show()"
   ]
  },
  {
   "cell_type": "markdown",
   "metadata": {},
   "source": [
    "## 2. Frequency Analysis\n",
    "\n",
    "Now let's analyze how spike frequency depends on input current."
   ]
  },
  {
   "cell_type": "code",
   "execution_count": null,
   "metadata": {},
   "source": [
    "def calculate_spike_frequency(V, t, threshold=-20):\n",
    "    \"\"\"Calculate spike frequency from voltage trace.\"\"\"\n",
    "    # Find spike times (voltage crosses threshold from below)\n",
    "    spikes = np.where((V[1:] >= threshold) & (V[:-1] < threshold))[0]\n",
    "    \n",
    "    if len(spikes) < 2:\n",
    "        return 0\n",
    "    \n",
    "    # Calculate intervals between spikes\n",
    "    intervals = np.diff(t[spikes])\n",
    "    \n",
    "    # Return frequency in Hz (converting from ms to s)\n",
    "    return 1000 / np.mean(intervals)\n",
    "\n",
    "# Test range of current amplitudes\n",
    "current_range = np.linspace(0, 20, 10)\n",
    "frequencies = []\n",
    "\n",
    "for I in current_range:\n",
    "    model.reset_state()\n",
    "    t, V, n, m, h = model.simulate([0, 100], lambda t: sustained_current(t, amplitude=I))\n",
    "    freq = calculate_spike_frequency(V, t)\n",
    "    frequencies.append(freq)\n",
    "\n",
    "# Plot f-I curve\n",
    "plt.figure(figsize=(8, 6))\n",
    "plt.plot(current_range, frequencies, 'o-')\n",
    "plt.xlabel('Current (μA/cm²)')\n",
    "plt.ylabel('Spike Frequency (Hz)')\n",
    "plt.title('f-I Curve')\n",
    "plt.grid(True)\n",
    "plt.show()"
   ]
  }
 ]
}