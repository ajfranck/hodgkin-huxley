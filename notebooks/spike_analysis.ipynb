{
 "cells": [
  {
   "cell_type": "markdown",
   "metadata": {},
   "source": [
    "# Hodgkin-Huxley Model: Spike Train Analysis\n",
    "\n",
    "This notebook analyzes the generation and characteristics of spike trains in response to sustained stimuli."
   ]
  },
  {
   "cell_type": "code",
   "execution_count": null,
   "metadata": {},
   "outputs": [],
   "source": [
    "import sys\n",
    "import os\n",
    "sys.path.insert(0, os.path.abspath(os.path.join(os.getcwd(), '..')))\n",
    "\n",
    "import numpy as np\n",
    "import matplotlib.pyplot as plt\n",
    "from src.model import HodgkinHuxleyModel\n",
    "from src.visualization import plot_membrane_potential, plot_phase_plane\n",
    "\n",
    "plt.style.use('seaborn-darkgrid')"
   ]
  },
  {
   "cell_type": "markdown",
   "metadata": {},
   "source": [
    "## 1. Sustained Current Response\n",
    "\n",
    "Let's examine how the neuron responds to sustained current input."
   ]
  },
  {
   "cell_type": "code",
   "execution_count": null,
   "metadata": {},
   "outputs": [],
   "source": [
    "def sustained_current(t, amplitude=50, start=5):\n",
    "    \"\"\"Generate a sustained current step.\"\"\"\n",
    "    return amplitude if t >= start else 0\n",
    "\n",
    "model = HodgkinHuxleyModel()\n",
    "\n",
    "t_span = [0, 100]  # 100ms simulation\n",
    "t, V, n, m, h = model.simulate(t_span, I_ext_func=lambda t: sustained_current(t))\n",
    "\n",
    "I_ext = np.array([sustained_current(t_i) for t_i in t])\n",
    "\n",
    "fig1 = plot_membrane_potential(t, V, \"Spike Train\", I_ext)\n",
    "plt.savefig('../data/results/spike_train.png')\n",
    "plt.show()\n",
    "\n",
    "fig2 = plot_phase_plane(V, n, m, h)\n",
    "plt.savefig('../data/results/phase_plane.png')\n",
    "plt.show()"
   ]
  },
  {
   "cell_type": "markdown",
   "metadata": {},
   "source": [
    "## 2. Frequency Analysis\n",
    "\n",
    "Now let's analyze how spike frequency depends on input current."
   ]
  },
  {
   "cell_type": "code",
   "execution_count": null,
   "metadata": {},
   "outputs": [],
   "source": [
    "def calculate_spike_frequency(V, t, threshold=-20):\n",
    "    \"\"\"Calculate spike frequency from voltage trace.\"\"\"\n",
    "    spikes = np.where((V[1:] >= threshold) & (V[:-1] < threshold))[0]\n",
    "    \n",
    "    if len(spikes) < 2:\n",
    "        return 0\n",
    "    \n",
    "    intervals = np.diff(t[spikes])\n",
    "    \n",
    "    return 1000 / np.mean(intervals)\n",
    "\n",
    "current_range = np.linspace(0, 100, 20)\n",
    "frequencies = []\n",
    "\n",
    "for I in current_range:\n",
    "    model.reset_state()\n",
    "    t, V, n, m, h = model.simulate([0, 100], I_ext_func=lambda t: sustained_current(t, amplitude=I))\n",
    "    freq = calculate_spike_frequency(V, t)\n",
    "    frequencies.append(freq)\n",
    "\n",
    "# Plot f-I curve\n",
    "plt.figure(figsize=(8, 6))\n",
    "plt.plot(current_range, frequencies, 'o-')\n",
    "plt.xlabel('Current (μA/cm²)')\n",
    "plt.ylabel('Spike Frequency (Hz)')\n",
    "plt.title('f-I Curve')\n",
    "plt.grid(True)\n",
    "plt.savefig('../data/results/f-I_curve.png')\n",
    "plt.show()"
   ]
  }
 ],
 "metadata": {
  "kernelspec": {
   "display_name": "base",
   "language": "python",
   "name": "python3"
  },
  "language_info": {
   "codemirror_mode": {
    "name": "ipython",
    "version": 3
   },
   "file_extension": ".py",
   "mimetype": "text/x-python",
   "name": "python",
   "nbconvert_exporter": "python",
   "pygments_lexer": "ipython3",
   "version": "3.11.5"
  }
 },
 "nbformat": 4,
 "nbformat_minor": 2
}
